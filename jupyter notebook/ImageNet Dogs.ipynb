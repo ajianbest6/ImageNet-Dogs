{
 "cells": [
  {
   "cell_type": "markdown",
   "id": "543c2a3a",
   "metadata": {},
   "source": [
    "# **导入相关包**"
   ]
  },
  {
   "cell_type": "code",
   "execution_count": 1,
   "id": "0336f725",
   "metadata": {},
   "outputs": [],
   "source": [
    "import os\n",
    "import pandas as pd\n",
    "import torch\n",
    "import torchvision.transforms as transforms\n",
    "from torchvision import datasets\n",
    "from PIL import Image\n",
    "from matplotlib import pyplot as plt\n",
    "from torch import nn\n",
    "from torch.utils.data import DataLoader, Dataset\n",
    "from tqdm import tqdm"
   ]
  },
  {
   "cell_type": "markdown",
   "id": "62f8bc13",
   "metadata": {},
   "source": [
    "# **超参数设置**"
   ]
  },
  {
   "cell_type": "code",
   "execution_count": 2,
   "id": "5eb8774b",
   "metadata": {},
   "outputs": [],
   "source": [
    "device = 'cuda:0' if torch.cuda.is_available() else 'cpu'  # 选择设备\n",
    "\n",
    "learning_rate = 1e-4\n",
    "epoches = 10\n",
    "batch_size = 64"
   ]
  },
  {
   "cell_type": "markdown",
   "id": "5781ed28",
   "metadata": {},
   "source": [
    "# **数据集处理**"
   ]
  },
  {
   "cell_type": "code",
   "execution_count": 3,
   "id": "4b0c2d7a",
   "metadata": {},
   "outputs": [],
   "source": [
    "test_dir = '../data/ImageNet Dogs/train_valid_test/test'\n",
    "train_dir = '../data/ImageNet Dogs/train_valid_test/train'\n",
    "valid_dir = '../data/ImageNet Dogs/train_valid_test/valid'"
   ]
  },
  {
   "cell_type": "code",
   "execution_count": 4,
   "id": "e1958df2",
   "metadata": {},
   "outputs": [],
   "source": [
    "# 数据增强\n",
    "train_transforms = transforms.Compose([\n",
    "    transforms.RandomResizedCrop(224, scale=(0.08, 1.0), ratio=(3.0/4.0, 4.0/3.0)),  # 随机裁剪图像\n",
    "    transforms.RandomHorizontalFlip(),   # 随机翻转\n",
    "    transforms.ColorJitter(brightness=0.4, contrast=0.4, saturation=0.4),  # 随机改变亮度、对比度\n",
    "    transforms.ToTensor(),\n",
    "    transforms.Normalize(mean=[0.485, 0.456, 0.406], std=[0.229, 0.224, 0.225])\n",
    "])\n",
    "\n",
    "test_transforms = transforms.Compose([\n",
    "    transforms.Resize(256),\n",
    "    transforms.CenterCrop(224),\n",
    "    transforms.ToTensor(),\n",
    "    transforms.Normalize(mean=[0.485, 0.456, 0.406], std=[0.229, 0.224, 0.225])\n",
    "])"
   ]
  },
  {
   "cell_type": "code",
   "execution_count": 5,
   "id": "867e80da",
   "metadata": {},
   "outputs": [],
   "source": [
    "train_dataset = datasets.ImageFolder(root=train_dir, transform=train_transforms)\n",
    "valid_dataset = datasets.ImageFolder(root=valid_dir, transform=test_transforms)\n",
    "test_dataset = datasets.ImageFolder(root=test_dir, transform=test_transforms)"
   ]
  },
  {
   "cell_type": "code",
   "execution_count": 6,
   "id": "43571408",
   "metadata": {},
   "outputs": [],
   "source": [
    "train_loader = DataLoader(train_dataset, batch_size=batch_size, shuffle=True)\n",
    "valid_loader = DataLoader(valid_dataset, batch_size=batch_size, shuffle=True)\n",
    "test_loader = DataLoader(test_dataset, batch_size=batch_size, shuffle=False)"
   ]
  },
  {
   "cell_type": "markdown",
   "id": "c9413309",
   "metadata": {},
   "source": [
    "# **ResNet34网络**"
   ]
  },
  {
   "cell_type": "code",
   "execution_count": 7,
   "id": "548bcca2",
   "metadata": {},
   "outputs": [],
   "source": [
    "from torchvision.models import resnet34\n",
    "# 修改预训练模型保存地址\n",
    "os.environ['TORCH_HOME'] = '../torch_model'\n",
    "\n",
    "class ResNet34(nn.Module):\n",
    "    def __init__(self, num_classes):\n",
    "        super(ResNet34, self).__init__()\n",
    "        self.model = resnet34(weights='DEFAULT')\n",
    "        self.in_features = self.model.fc.in_features\n",
    "        self.model.fc = nn.Linear(self.in_features, num_classes)\n",
    "\n",
    "    def forward(self, x):\n",
    "        x = self.model(x)\n",
    "        return x\n",
    "\n",
    "model = ResNet34(num_classes=120).to(device)"
   ]
  },
  {
   "cell_type": "code",
   "execution_count": 8,
   "id": "ae4f8d4b",
   "metadata": {},
   "outputs": [],
   "source": [
    "# 定义损失器,优化器\n",
    "criterion = nn.CrossEntropyLoss().to(device)\n",
    "optimizer = torch.optim.Adam(model.parameters(), lr=learning_rate)"
   ]
  },
  {
   "cell_type": "markdown",
   "id": "1520ae50",
   "metadata": {},
   "source": [
    "# **数据可视化**"
   ]
  },
  {
   "cell_type": "code",
   "execution_count": 9,
   "id": "3eb8da79",
   "metadata": {},
   "outputs": [],
   "source": [
    "# 中文显示问题\n",
    "plt.rcParams['font.sans-serif'] = ['SimHei']\n",
    "plt.rcParams['axes.unicode_minus'] = False\n",
    "\n",
    "def matplot_loss(train_loss, val_loss):\n",
    "    plt.plot(train_loss, label='train_loss')\n",
    "    plt.plot(val_loss, label='val_loss')\n",
    "    plt.legend(loc='best')\n",
    "    plt.ylabel('loss')\n",
    "    plt.xlabel('epoch')\n",
    "    plt.title('训练集与验证集Loss值对比图')\n",
    "    plt.show()\n",
    "\n",
    "def matplot_acc(train_acc, val_acc):\n",
    "    plt.plot(train_acc, label='train_acc')\n",
    "    plt.plot(val_acc, label='val_acc')\n",
    "    plt.legend(loc='best')\n",
    "    plt.ylabel('acc')\n",
    "    plt.xlabel('epoch')\n",
    "    plt.title('训练集与验证集Acc值对比图')\n",
    "    plt.show()\n",
    "\n",
    "loss_train = []\n",
    "acc_train = []\n",
    "loss_val = []\n",
    "acc_val = []"
   ]
  },
  {
   "cell_type": "markdown",
   "id": "2597af00",
   "metadata": {},
   "source": [
    "# **训练模型**"
   ]
  },
  {
   "cell_type": "code",
   "execution_count": 10,
   "id": "ab9b8353",
   "metadata": {},
   "outputs": [
    {
     "name": "stdout",
     "output_type": "stream",
     "text": [
      "training on -----------------\n",
      "Epoch:1\n"
     ]
    },
    {
     "name": "stderr",
     "output_type": "stream",
     "text": [
      "100%|████████████████████████████████████████████████████████████████████████████████| 149/149 [01:08<00:00,  2.17it/s]\n"
     ]
    },
    {
     "name": "stdout",
     "output_type": "stream",
     "text": [
      "train loss: 0.9368\n",
      "train acc: 0.7581\n"
     ]
    },
    {
     "name": "stderr",
     "output_type": "stream",
     "text": [
      "100%|██████████████████████████████████████████████████████████████████████████████████| 12/12 [00:02<00:00,  4.36it/s]\n"
     ]
    },
    {
     "name": "stdout",
     "output_type": "stream",
     "text": [
      "epoch1:save the best model\n",
      "valid loss: 0.8097\n",
      "valid acc: 0.7528\n",
      "----------------------------------------\n",
      "Epoch:2\n"
     ]
    },
    {
     "name": "stderr",
     "output_type": "stream",
     "text": [
      "100%|████████████████████████████████████████████████████████████████████████████████| 149/149 [01:06<00:00,  2.24it/s]\n"
     ]
    },
    {
     "name": "stdout",
     "output_type": "stream",
     "text": [
      "train loss: 0.8782\n",
      "train acc: 0.7717\n"
     ]
    },
    {
     "name": "stderr",
     "output_type": "stream",
     "text": [
      "100%|██████████████████████████████████████████████████████████████████████████████████| 12/12 [00:02<00:00,  4.33it/s]\n"
     ]
    },
    {
     "name": "stdout",
     "output_type": "stream",
     "text": [
      "epoch2:save the best model\n",
      "valid loss: 0.7781\n",
      "valid acc: 0.7556\n",
      "----------------------------------------\n",
      "Epoch:3\n"
     ]
    },
    {
     "name": "stderr",
     "output_type": "stream",
     "text": [
      "100%|████████████████████████████████████████████████████████████████████████████████| 149/149 [01:06<00:00,  2.24it/s]\n"
     ]
    },
    {
     "name": "stdout",
     "output_type": "stream",
     "text": [
      "train loss: 0.8416\n",
      "train acc: 0.7817\n"
     ]
    },
    {
     "name": "stderr",
     "output_type": "stream",
     "text": [
      "100%|██████████████████████████████████████████████████████████████████████████████████| 12/12 [00:02<00:00,  4.37it/s]\n"
     ]
    },
    {
     "name": "stdout",
     "output_type": "stream",
     "text": [
      "valid loss: 0.8145\n",
      "valid acc: 0.7514\n",
      "----------------------------------------\n",
      "Epoch:4\n"
     ]
    },
    {
     "name": "stderr",
     "output_type": "stream",
     "text": [
      "100%|████████████████████████████████████████████████████████████████████████████████| 149/149 [01:06<00:00,  2.24it/s]\n"
     ]
    },
    {
     "name": "stdout",
     "output_type": "stream",
     "text": [
      "train loss: 0.8204\n",
      "train acc: 0.7859\n"
     ]
    },
    {
     "name": "stderr",
     "output_type": "stream",
     "text": [
      "100%|██████████████████████████████████████████████████████████████████████████████████| 12/12 [00:02<00:00,  4.26it/s]\n"
     ]
    },
    {
     "name": "stdout",
     "output_type": "stream",
     "text": [
      "valid loss: 0.8207\n",
      "valid acc: 0.7472\n",
      "----------------------------------------\n",
      "Epoch:5\n"
     ]
    },
    {
     "name": "stderr",
     "output_type": "stream",
     "text": [
      "100%|████████████████████████████████████████████████████████████████████████████████| 149/149 [01:06<00:00,  2.24it/s]\n"
     ]
    },
    {
     "name": "stdout",
     "output_type": "stream",
     "text": [
      "train loss: 0.7916\n",
      "train acc: 0.7914\n"
     ]
    },
    {
     "name": "stderr",
     "output_type": "stream",
     "text": [
      "100%|██████████████████████████████████████████████████████████████████████████████████| 12/12 [00:02<00:00,  4.36it/s]\n"
     ]
    },
    {
     "name": "stdout",
     "output_type": "stream",
     "text": [
      "valid loss: 0.8670\n",
      "valid acc: 0.7486\n",
      "----------------------------------------\n",
      "Epoch:6\n"
     ]
    },
    {
     "name": "stderr",
     "output_type": "stream",
     "text": [
      "100%|████████████████████████████████████████████████████████████████████████████████| 149/149 [01:06<00:00,  2.24it/s]\n"
     ]
    },
    {
     "name": "stdout",
     "output_type": "stream",
     "text": [
      "train loss: 0.7673\n",
      "train acc: 0.8016\n"
     ]
    },
    {
     "name": "stderr",
     "output_type": "stream",
     "text": [
      "100%|██████████████████████████████████████████████████████████████████████████████████| 12/12 [00:02<00:00,  4.32it/s]\n"
     ]
    },
    {
     "name": "stdout",
     "output_type": "stream",
     "text": [
      "epoch6:save the best model\n",
      "valid loss: 0.8140\n",
      "valid acc: 0.7639\n",
      "----------------------------------------\n",
      "Epoch:7\n"
     ]
    },
    {
     "name": "stderr",
     "output_type": "stream",
     "text": [
      "100%|████████████████████████████████████████████████████████████████████████████████| 149/149 [01:06<00:00,  2.24it/s]\n"
     ]
    },
    {
     "name": "stdout",
     "output_type": "stream",
     "text": [
      "train loss: 0.7407\n",
      "train acc: 0.8049\n"
     ]
    },
    {
     "name": "stderr",
     "output_type": "stream",
     "text": [
      "100%|██████████████████████████████████████████████████████████████████████████████████| 12/12 [00:02<00:00,  4.33it/s]\n"
     ]
    },
    {
     "name": "stdout",
     "output_type": "stream",
     "text": [
      "valid loss: 0.8613\n",
      "valid acc: 0.7583\n",
      "----------------------------------------\n",
      "Epoch:8\n"
     ]
    },
    {
     "name": "stderr",
     "output_type": "stream",
     "text": [
      "100%|████████████████████████████████████████████████████████████████████████████████| 149/149 [01:06<00:00,  2.24it/s]\n"
     ]
    },
    {
     "name": "stdout",
     "output_type": "stream",
     "text": [
      "train loss: 0.7462\n",
      "train acc: 0.8023\n"
     ]
    },
    {
     "name": "stderr",
     "output_type": "stream",
     "text": [
      "100%|██████████████████████████████████████████████████████████████████████████████████| 12/12 [00:02<00:00,  4.30it/s]\n"
     ]
    },
    {
     "name": "stdout",
     "output_type": "stream",
     "text": [
      "valid loss: 0.8103\n",
      "valid acc: 0.7639\n",
      "----------------------------------------\n",
      "Epoch:9\n"
     ]
    },
    {
     "name": "stderr",
     "output_type": "stream",
     "text": [
      "100%|████████████████████████████████████████████████████████████████████████████████| 149/149 [01:06<00:00,  2.25it/s]\n"
     ]
    },
    {
     "name": "stdout",
     "output_type": "stream",
     "text": [
      "train loss: 0.6562\n",
      "train acc: 0.8308\n"
     ]
    },
    {
     "name": "stderr",
     "output_type": "stream",
     "text": [
      "100%|██████████████████████████████████████████████████████████████████████████████████| 12/12 [00:02<00:00,  4.36it/s]\n"
     ]
    },
    {
     "name": "stdout",
     "output_type": "stream",
     "text": [
      "valid loss: 0.8234\n",
      "valid acc: 0.7583\n",
      "----------------------------------------\n",
      "Epoch:10\n"
     ]
    },
    {
     "name": "stderr",
     "output_type": "stream",
     "text": [
      "100%|████████████████████████████████████████████████████████████████████████████████| 149/149 [01:07<00:00,  2.22it/s]\n"
     ]
    },
    {
     "name": "stdout",
     "output_type": "stream",
     "text": [
      "train loss: 0.6735\n",
      "train acc: 0.8272\n"
     ]
    },
    {
     "name": "stderr",
     "output_type": "stream",
     "text": [
      "100%|██████████████████████████████████████████████████████████████████████████████████| 12/12 [00:02<00:00,  4.20it/s]"
     ]
    },
    {
     "name": "stdout",
     "output_type": "stream",
     "text": [
      "valid loss: 0.9299\n",
      "valid acc: 0.7431\n",
      "----------------------------------------\n"
     ]
    },
    {
     "name": "stderr",
     "output_type": "stream",
     "text": [
      "\n"
     ]
    }
   ],
   "source": [
    "min_acc = 0  # 为保存最佳valid_acc的网络参数文件\n",
    "print('training on -----------------')\n",
    "for epoch in range(epoches):\n",
    "    print(f'Epoch:{epoch + 1}')\n",
    "    epoch_loss, epoch_corrects = 0.0, 0.0\n",
    "    model.train()\n",
    "    for img, label in tqdm(train_loader):\n",
    "        img, label = img.to(device), label.to(device)\n",
    "        label_hat = model(img)\n",
    "        pred = torch.argmax(label_hat, 1)\n",
    "        loss = criterion(label_hat, label)\n",
    "\n",
    "        optimizer.zero_grad()\n",
    "        loss.backward()\n",
    "        optimizer.step()\n",
    "\n",
    "        epoch_loss += loss.item() * img.size(0)\n",
    "        epoch_corrects += torch.sum(pred == label.data)\n",
    "    epoch_loss = epoch_loss / len(train_loader.dataset)\n",
    "    epoch_acc = epoch_corrects / len(train_loader.dataset)\n",
    "    loss_train.append(epoch_loss)\n",
    "    acc_train.append(epoch_acc.cpu().numpy())\n",
    "\n",
    "    print(f\"train loss: {epoch_loss:.4f}\")\n",
    "    print(f\"train acc: {epoch_acc:.4f}\")\n",
    "\n",
    "    val_loss, val_corrects = 0.0, 0.0\n",
    "    model.eval()\n",
    "    with torch.no_grad():\n",
    "        for img, label in tqdm(valid_loader):\n",
    "            img, label = img.to(device), label.to(device)\n",
    "            label_hat = model(img)\n",
    "            pred = torch.argmax(label_hat, 1)\n",
    "            loss = criterion(label_hat, label)\n",
    "\n",
    "            val_loss += loss.item() * img.size(0)\n",
    "            val_corrects += torch.sum(pred == label.data)\n",
    "    val_loss = val_loss / len(valid_loader.dataset)\n",
    "    val_acc = val_corrects / len(valid_loader.dataset)\n",
    "\n",
    "    loss_val.append(val_loss)\n",
    "    acc_val.append(val_acc.cpu().numpy())\n",
    "    # 保存最佳模型\n",
    "    if val_acc > min_acc:\n",
    "        folder = '../save_model/ImageNet Dogs'\n",
    "        if not os.path.exists(folder):\n",
    "            os.makedirs(os.path.join(folder))\n",
    "        min_acc = val_acc\n",
    "        print(f'epoch{epoch+1}:save the best model')\n",
    "        torch.save(model.state_dict(), '../save_model/ImageNet Dogs/best_model_ResNet34.pth')\n",
    "\n",
    "    print(f\"valid loss: {val_loss:.4f}\")\n",
    "    print(f\"valid acc: {val_acc:.4f}\")\n",
    "    print(\"-\" * 40)"
   ]
  },
  {
   "cell_type": "code",
   "execution_count": 11,
   "id": "d0f90b64",
   "metadata": {},
   "outputs": [
    {
     "data": {
      "image/png": "[encoded data removed]",
      "text/plain": [
       "<Figure size 640x480 with 1 Axes>"
      ]
     },
     "metadata": {},
     "output_type": "display_data"
    },
    {
     "data": {
      "image/png": "[encoded data removed]",
      "text/plain": [
       "<Figure size 640x480 with 1 Axes>"
      ]
     },
     "metadata": {},
     "output_type": "display_data"
    }
   ],
   "source": [
    "# 可视化\n",
    "matplot_loss(loss_train, loss_val)\n",
    "matplot_acc(acc_train, acc_val)"
   ]
  },
  {
   "cell_type": "code",
   "execution_count": 12,
   "id": "daf94b45",
   "metadata": {},
   "outputs": [
    {
     "name": "stderr",
     "output_type": "stream",
     "text": [
      "100%|████████████████████████████████████████████████████████████████████████████████| 162/162 [00:45<00:00,  3.57it/s]\n"
     ]
    }
   ],
   "source": [
    "preds = []\n",
    "model.load_state_dict(torch.load('../save_model/ImageNet Dogs/best_model_ResNet34.pth'))\n",
    "for data, label in tqdm(test_loader):\n",
    "    output = nn.functional.softmax(model(data.to(device)), dim=1)\n",
    "    preds.extend(output.cpu().detach().numpy())\n",
    "ids = sorted(os.listdir(os.path.join(test_dir, 'unknown')))\n",
    "with open('../data/ImageNet Dogs/submission.csv', 'w') as f:\n",
    "    f.write('id,' + ','.join(train_dataset.classes) + '\\n')\n",
    "    for i, output in zip(ids, preds):\n",
    "        f.write(i.split('.')[0] + ',' + ','.join([str(num) for num in output]) + '\\n')"
   ]
  }
 ],
 "metadata": {
  "kernelspec": {
   "display_name": "Python 3 (ipykernel)",
   "language": "python",
   "name": "python3"
  },
  "language_info": {
   "codemirror_mode": {
    "name": "ipython",
    "version": 3
   },
   "file_extension": ".py",
   "mimetype": "text/x-python",
   "name": "python",
   "nbconvert_exporter": "python",
   "pygments_lexer": "ipython3",
   "version": "3.8.19"
  },
  "toc": {
   "base_numbering": 1,
   "nav_menu": {},
   "number_sections": true,
   "sideBar": true,
   "skip_h1_title": false,
   "title_cell": "Table of Contents",
   "title_sidebar": "Contents",
   "toc_cell": false,
   "toc_position": {},
   "toc_section_display": true,
   "toc_window_display": false
  }
 },
 "nbformat": 4,
 "nbformat_minor": 5
}
